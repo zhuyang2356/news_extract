{
 "cells": [
  {
   "cell_type": "code",
   "execution_count": 1,
   "id": "4e8ad9b1",
   "metadata": {},
   "outputs": [],
   "source": [
    "import os\n",
    "os.environ[\"KMP_DUPLICATE_LIB_OK\"]=\"TRUE\""
   ]
  },
  {
   "cell_type": "code",
   "execution_count": 2,
   "id": "13842078",
   "metadata": {},
   "outputs": [
    {
     "name": "stdout",
     "output_type": "stream",
     "text": [
      "[2024/04/10 13:13:52] ppocr DEBUG: Namespace(help='==SUPPRESS==', use_gpu=False, use_xpu=False, use_npu=False, ir_optim=True, use_tensorrt=False, min_subgraph_size=15, precision='fp32', gpu_mem=500, gpu_id=0, image_dir=None, page_num=0, det_algorithm='DB', det_model_dir='C:\\\\Users\\\\92518/.paddleocr/whl\\\\det\\\\ch\\\\ch_PP-OCRv4_det_infer', det_limit_side_len=960, det_limit_type='max', det_box_type='quad', det_db_thresh=0.3, det_db_box_thresh=0.6, det_db_unclip_ratio=1.5, max_batch_size=10, use_dilation=False, det_db_score_mode='fast', det_east_score_thresh=0.8, det_east_cover_thresh=0.1, det_east_nms_thresh=0.2, det_sast_score_thresh=0.5, det_sast_nms_thresh=0.2, det_pse_thresh=0, det_pse_box_thresh=0.85, det_pse_min_area=16, det_pse_scale=1, scales=[8, 16, 32], alpha=1.0, beta=1.0, fourier_degree=5, rec_algorithm='SVTR_LCNet', rec_model_dir='C:\\\\Users\\\\92518/.paddleocr/whl\\\\rec\\\\ch\\\\ch_PP-OCRv4_rec_infer', rec_image_inverse=True, rec_image_shape='3, 48, 320', rec_batch_num=6, max_text_length=25, rec_char_dict_path='C:\\\\Users\\\\92518\\\\AppData\\\\Roaming\\\\Python\\\\Python39\\\\site-packages\\\\paddleocr\\\\ppocr\\\\utils\\\\ppocr_keys_v1.txt', use_space_char=True, vis_font_path='./doc/fonts/simfang.ttf', drop_score=0.5, e2e_algorithm='PGNet', e2e_model_dir=None, e2e_limit_side_len=768, e2e_limit_type='max', e2e_pgnet_score_thresh=0.5, e2e_char_dict_path='./ppocr/utils/ic15_dict.txt', e2e_pgnet_valid_set='totaltext', e2e_pgnet_mode='fast', use_angle_cls=True, cls_model_dir='C:\\\\Users\\\\92518/.paddleocr/whl\\\\cls\\\\ch_ppocr_mobile_v2.0_cls_infer', cls_image_shape='3, 48, 192', label_list=['0', '180'], cls_batch_num=6, cls_thresh=0.9, enable_mkldnn=False, cpu_threads=10, use_pdserving=False, warmup=False, sr_model_dir=None, sr_image_shape='3, 32, 128', sr_batch_num=1, draw_img_save_dir='./inference_results', save_crop_res=False, crop_res_save_dir='./output', use_mp=False, total_process_num=1, process_id=0, benchmark=False, save_log_path='./log_output/', show_log=True, use_onnx=False, output='./output', table_max_len=488, table_algorithm='TableAttn', table_model_dir=None, merge_no_span_structure=True, table_char_dict_path=None, layout_model_dir=None, layout_dict_path=None, layout_score_threshold=0.5, layout_nms_threshold=0.5, kie_algorithm='LayoutXLM', ser_model_dir=None, re_model_dir=None, use_visual_backbone=True, ser_dict_path='../train_data/XFUND/class_list_xfun.txt', ocr_order_method=None, mode='structure', image_orientation=False, layout=True, table=True, ocr=True, recovery=False, use_pdf2docx_api=False, invert=False, binarize=False, alphacolor=(255, 255, 255), lang='ch', det=True, rec=True, type='ocr', ocr_version='PP-OCRv4', structure_version='PP-StructureV2')\n",
      "[2024/04/10 13:13:55] ppocr DEBUG: dt_boxes num : 8, elapsed : 1.1078011989593506\n",
      "[2024/04/10 13:13:55] ppocr DEBUG: cls num  : 8, elapsed : 0.24733877182006836\n",
      "[2024/04/10 13:13:56] ppocr DEBUG: rec_res num  : 8, elapsed : 0.8390350341796875\n",
      "[[[[309.0, 673.0], [854.0, 546.0], [869.0, 613.0], [324.0, 740.0]], ('中华人民共和国', 0.9966461062431335)], [[[350.0, 771.0], [899.0, 635.0], [915.0, 703.0], [366.0, 838.0]], ('保守国家秘密法', 0.9967733025550842)], [[[243.0, 1141.0], [845.0, 1141.0], [845.0, 1202.0], [243.0, 1202.0]], ('贯彻落实保密法', 0.9775062799453735)], [[[244.0, 1238.0], [842.0, 1238.0], [842.0, 1299.0], [244.0, 1299.0]], ('你我都是护密人', 0.9954780340194702)], [[[143.0, 1453.0], [398.0, 1449.0], [399.0, 1477.0], [143.0, 1480.0]], ('010-55601919', 0.9974607825279236)], [[[799.0, 1470.0], [990.0, 1470.0], [990.0, 1498.0], [799.0, 1498.0]], ('国家保密局宣', 0.9924414753913879)], [[[145.0, 1484.0], [397.0, 1484.0], [397.0, 1506.0], [145.0, 1506.0]], ('发现泄密问题，请拨打电话', 0.9538442492485046)]]\n"
     ]
    }
   ],
   "source": [
    "from paddleocr import PaddleOCR, draw_ocr\n",
    "# Paddleocr目前支持中英文、英文、法语、德语、韩语、日语，可以通过修改lang参数进行切换\n",
    "# 参数依次为`ch`, `en`, `french`, `german`, `korean`, `japan`。\n",
    "ocr = PaddleOCR(use_angle_cls=True, lang=\"ch\") # need to run only once to download and load model into memory\n",
    "img_path = './toutiao/今日头条/图片+新闻内容/2024年全国保密宣传教育月宣传海报/1.jpg'\n",
    "result = ocr.ocr(img_path, cls=True)\n",
    "for line in result:\n",
    "    print(line)"
   ]
  },
  {
   "cell_type": "code",
   "execution_count": 7,
   "id": "251c4076",
   "metadata": {},
   "outputs": [
    {
     "data": {
      "text/plain": [
       "7"
      ]
     },
     "execution_count": 7,
     "metadata": {},
     "output_type": "execute_result"
    }
   ],
   "source": [
    "len(result[0])"
   ]
  },
  {
   "cell_type": "code",
   "execution_count": 15,
   "id": "d9beb50b",
   "metadata": {},
   "outputs": [
    {
     "data": {
      "text/plain": [
       "'中华人民共和国'"
      ]
     },
     "execution_count": 15,
     "metadata": {},
     "output_type": "execute_result"
    }
   ],
   "source": [
    "result[0][0][-1][0]"
   ]
  },
  {
   "cell_type": "code",
   "execution_count": 16,
   "id": "2e51f83f",
   "metadata": {},
   "outputs": [
    {
     "name": "stdout",
     "output_type": "stream",
     "text": [
      "中华人民共和国\n",
      "保守国家秘密法\n",
      "贯彻落实保密法\n",
      "你我都是护密人\n",
      "010-55601919\n",
      "国家保密局宣\n",
      "发现泄密问题，请拨打电话\n"
     ]
    }
   ],
   "source": [
    "for i in range(len(result[0])):\n",
    "    pic_text=result[0][i][-1][0]\n",
    "    print(pic_text)"
   ]
  },
  {
   "cell_type": "code",
   "execution_count": 17,
   "id": "29ffa738",
   "metadata": {},
   "outputs": [
    {
     "name": "stdout",
     "output_type": "stream",
     "text": [
      "['2024年全国保密宣传教育月宣传海报', '2024-04-09 10:56·枣庄法治市中', '', '', '', '来源：国家保密局']\n"
     ]
    }
   ],
   "source": [
    "from docx import Document\n",
    "\n",
    "path = './toutiao/今日头条/图片+新闻内容/2024年全国保密宣传教育月宣传海报/2024年全国保密宣传教育月宣传海报.docx'\n",
    "\n",
    "doc = Document(path)\n",
    "# print(doc.paragraphs)\n",
    "doc_text_list=[]\n",
    "for paragraph in doc.paragraphs:\n",
    "#     print(paragraph.text)\n",
    "    doc_text_list.append(paragraph.text)\n",
    "print(doc_text_list)\n"
   ]
  },
  {
   "cell_type": "code",
   "execution_count": null,
   "outputs": [],
   "source": [
    "import pymysql as pms\n",
    "# 连接数据库\n",
    "conn = pms.connect(host='127.0.0.1', user='root', password='5566', database='networkmonitor', port=3306)\n",
    "# 创建游标\n",
    "cursor = conn.cursor()\n",
    "\n",
    "# 执行sql语句\n",
    "sql = \"select * from news_extract.news\"\n",
    "cursor.execute(sql)\n",
    "# 获取数据\n",
    "data = cursor.fetchall()\n",
    "#向数据库里插入数据\n",
    "sql = \"insert into news_extract.news(title,content) values(%s,%s)\"\n",
    "cursor.execute(sql, ('test', 'test'))\n",
    "# 提交事务\n",
    "conn.commit()\n",
    "# 关闭游标\n",
    "cursor.close()\n",
    "# 关闭数据库连接\n",
    "conn.close()"
   ],
   "metadata": {
    "collapsed": false
   }
  },
  {
   "cell_type": "code",
   "execution_count": null,
   "outputs": [],
   "source": [],
   "metadata": {
    "collapsed": false
   }
  }
 ],
 "metadata": {
  "kernelspec": {
   "display_name": "Python 3 (ipykernel)",
   "language": "python",
   "name": "python3"
  },
  "language_info": {
   "codemirror_mode": {
    "name": "ipython",
    "version": 3
   },
   "file_extension": ".py",
   "mimetype": "text/x-python",
   "name": "python",
   "nbconvert_exporter": "python",
   "pygments_lexer": "ipython3",
   "version": "3.9.13"
  }
 },
 "nbformat": 4,
 "nbformat_minor": 5
}
