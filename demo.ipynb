{
 "cells": [
  {
   "cell_type": "code",
   "execution_count": 1,
   "id": "193c80aa",
   "metadata": {},
   "outputs": [
    {
     "name": "stdout",
     "output_type": "stream",
     "text": [
      "start\n"
     ]
    }
   ],
   "source": [
    "import requests\n",
    "from bs4 import BeautifulSoup\n",
    "import eventlet\n",
    "hd = {\n",
    "    'Connection': 'keep-alive',\n",
    "    'User-Agent': 'Mozilla/5.0 (Windows NT 6.1; WOW64) AppleWebKit/537.36 (KHTML, like Gecko) Chrome/58.0.3029.110 Safari/537.36 SE 2.X MetaSr 1.0'\n",
    "}\n",
    "\n",
    "print(\"start\")"
   ]
  },
  {
   "cell_type": "code",
   "execution_count": null,
   "outputs": [],
   "source": [],
   "metadata": {
    "collapsed": false
   }
  },
  {
   "cell_type": "code",
   "execution_count": 2,
   "id": "e56da8b3",
   "metadata": {},
   "outputs": [
    {
     "name": "stdout",
     "output_type": "stream",
     "text": [
      "广发证券：营收净利连续两年下降 此前因保荐业务违规收千万级罚单_新浪财经_新浪网\n"
     ]
    }
   ],
   "source": [
    "#爬取文字-图片\n",
    "url='https://finance.sina.com.cn/stock/relnews/2024-04-03/doc-inaqnzxy4323607.shtml'\n",
    "r = requests.get(url)\n",
    "r.raise_for_status()\n",
    "r.encoding = r.apparent_encoding\n",
    "r_string=r.text\n",
    "s1=BeautifulSoup(r_string,'html.parser')\n",
    "title=s1.title.string\n",
    "print(title)"
   ]
  },
  {
   "cell_type": "code",
   "execution_count": 7,
   "id": "4e711ee9",
   "metadata": {},
   "outputs": [
    {
     "name": "stdout",
     "output_type": "stream",
     "text": [
      "广发证券：营收净利连续两年下降 此前因保荐业务违规收千万级罚单\n"
     ]
    }
   ],
   "source": [
    "mt = s1.find(attrs={'name': 'keywords'}).attrs['content']\n",
    "print(mt)"
   ]
  },
  {
   "cell_type": "code",
   "execution_count": 8,
   "id": "174d8665",
   "metadata": {},
   "outputs": [
    {
     "name": "stdout",
     "output_type": "stream",
     "text": [
      "<p cms-style=\"font-L\">　　近期，<span id=\"stock_sz000776\"><a class=\"keyword\" data-sudaclick=\"content_marketkeywords_p\" href=\"https://finance.sina.com.cn/realstock/company/sz000776/nc.shtml\" target=\"_blank\">广发证券</a></span><span id=\"quote_sz000776\"></span>披露2023年年度报告。</p>\n",
      "<p cms-style=\"font-L\">　　年报显示，2023年度，广发证券实现营业收入233亿元，同比减少7.29%，归母净利润69.78亿元，同比减少12%。需注意的是，广发证券营收及归母净利润已连续两年下降。</p>\n",
      "<p cms-style=\"font-L\">　　从主营业务来看，报告期内，公司投资银行业务、财富管理业务、及投资管理业务营业收入均较上年同期有所下降，其中，投资管理业务营收降幅较大。</p>\n",
      "<p cms-style=\"font-L\">　　另外，根据监管部门通报统计，2023年以来广发证券已多次被监管部门处罚。2023年9月，广发证券因出具的保荐书等文件存在虚假记载等违法违规行为，被中国证监会罚没超千万元。</p>\n",
      "<p cms-style=\"font-L\">　　年报显示，2023年度，广发证券实现营业收入233亿元，同比减少7.29%，归母净利润69.78亿元，同比减少12%。需注意的是，广发证券营收及归母净利润已连续两年下降<font cms-style=\"font-L\">，2022年该公司营业收入、归母净利润降幅分别为26.62%、26.95%。</font></p>\n",
      "<font cms-style=\"font-L\">，2022年该公司营业收入、归母净利润降幅分别为26.62%、26.95%。</font>\n",
      "<p cms-style=\"font-L\">　　<font cms-style=\"font-L\">分季度来看，2023年第四季度，公司实现营收52.86亿元，较上年同期减少30.6%；归母净利润11.68亿元，</font>较上年同期减少56.67%<font cms-style=\"font-L\">。</font></p>\n",
      "<font cms-style=\"font-L\">分季度来看，2023年第四季度，公司实现营收52.86亿元，较上年同期减少30.6%；归母净利润11.68亿元，</font>\n",
      "<font cms-style=\"font-L\">。</font>\n",
      "<p cms-style=\"font-L\">　　<font cms-style=\"font-L\">从主营业务来看，报告期内，公司</font>投资银行业务<font cms-style=\"font-L\">、</font>财富管理业务<font cms-style=\"font-L\">、及</font>投资管理业务<font cms-style=\"font-L\">营业收入均较上年同期有所下降，其中，</font>投资管理业务<font cms-style=\"font-L\">营收降幅较大。</font></p>\n",
      "<font cms-style=\"font-L\">从主营业务来看，报告期内，公司</font>\n",
      "<font cms-style=\"font-L\">、</font>\n",
      "<font cms-style=\"font-L\">、及</font>\n",
      "<font cms-style=\"font-L\">营业收入均较上年同期有所下降，其中，</font>\n",
      "<font cms-style=\"font-L\">营收降幅较大。</font>\n",
      "<p cms-style=\"font-L\">　　<font cms-style=\"font-L\">具体来看，2023年公司</font>投资银行业务<font cms-style=\"font-L\">营业收入5.82亿元，同比减少</font>3.34<font cms-style=\"font-L\">%；</font>财富管理业务<font cms-style=\"font-L\">营业收入105.31亿元，同比减少</font>5.14%<font cms-style=\"font-L\">；</font>投资管理业务<font cms-style=\"font-L\">营业收入78.91亿元，同比减少</font>20.64<font cms-style=\"font-L\">%。</font></p>\n",
      "<font cms-style=\"font-L\">具体来看，2023年公司</font>\n",
      "<font cms-style=\"font-L\">营业收入5.82亿元，同比减少</font>\n",
      "<font cms-style=\"font-L\">%；</font>\n",
      "<font cms-style=\"font-L\">营业收入105.31亿元，同比减少</font>\n",
      "<font cms-style=\"font-L\">；</font>\n",
      "<font cms-style=\"font-L\">营业收入78.91亿元，同比减少</font>\n",
      "<font cms-style=\"font-L\">%。</font>\n",
      "<p cms-style=\"font-L\">　　年报显示，公司投资管理业务主要包括资产管理、公募基金管理及私募基金管理业务。</p>\n",
      "<p cms-style=\"font-L\">　　资产管理业务方面，截至2023年末，广发资管管理的集合资产管理计划和专项资产管理计划的净值规模较2022年末分别下降43.68%和10.65%，单一资产管理计划的净值规模较2022年末上升48.57%，合计规模较2022年末下降24.53%。</p>\n",
      "<p cms-style=\"font-L\">　　面包财经根据监管部门通报统计，2023年以来，广发证券已多次被监管部门处罚。</p>\n",
      "<p cms-style=\"font-L\">　　<font cms-style=\"font-L\">2023年9月7日，广发证券收到湖北证监局下发的《</font>中国证监会行政处罚决定书（广发证券、王鑫、杨磊杰）<font cms-style=\"font-L\">》。</font></p>\n",
      "<font cms-style=\"font-L\">2023年9月7日，广发证券收到湖北证监局下发的《</font>\n",
      "<font cms-style=\"font-L\">》。</font>\n",
      "<p cms-style=\"font-L\">　　《决定》显示，“广发证券存在以下违法事实：广发证券出具的保荐书等文件存在虚假记载；广发证券在担任保荐(主承销)机构期间未勤勉尽责”。证监会对广发证券责令改正，给予警告，并没收保荐业务收入94.34万元，并处以94.34万元罚款；没收承销股票违法所得783.02万元，并处以50万元罚款。</p>\n",
      "<p cms-style=\"font-L\"></p>\n"
     ]
    }
   ],
   "source": [
    "mt = s1.find(attrs={'class': 'article'}).find_all(attrs={'cms-style':'font-L'})\n",
    "cont_list=[]\n",
    "for i in mt:\n",
    "    print(i)\n",
    "    cont_list.append(i.text.strip())\n"
   ]
  },
  {
   "cell_type": "code",
   "execution_count": 9,
   "id": "dc049836",
   "metadata": {},
   "outputs": [
    {
     "name": "stdout",
     "output_type": "stream",
     "text": [
      "近期，广发证券披露2023年年度报告。年报显示，2023年度，广发证券实现营业收入233亿元，同比减少7.29%，归母净利润69.78亿元，同比减少12%。需注意的是，广发证券营收及归母净利润已连续两年下降。从主营业务来看，报告期内，公司投资银行业务、财富管理业务、及投资管理业务营业收入均较上年同期有所下降，其中，投资管理业务营收降幅较大。另外，根据监管部门通报统计，2023年以来广发证券已多次被监管部门处罚。2023年9月，广发证券因出具的保荐书等文件存在虚假记载等违法违规行为，被中国证监会罚没超千万元。营收净利连续两年下降年报显示，2023年度，广发证券实现营业收入233亿元，同比减少7.29%，归母净利润69.78亿元，同比减少12%。需注意的是，广发证券营收及归母净利润已连续两年下降，2022年该公司营业收入、归母净利润降幅分别为26.62%、26.95%。分季度来看，2023年第四季度，公司实现营收52.86亿元，较上年同期减少30.6%；归母净利润11.68亿元，较上年同期减少56.67%。投资管理业务降幅较大从主营业务来看，报告期内，公司投资银行业务、财富管理业务、及投资管理业务营业收入均较上年同期有所下降，其中，投资管理业务营收降幅较大。具体来看，2023年公司投资银行业务营业收入5.82亿元，同比减少3.34%；财富管理业务营业收入105.31亿元，同比减少5.14%；投资管理业务营业收入78.91亿元，同比减少20.64%。年报显示，公司投资管理业务主要包括资产管理、公募基金管理及私募基金管理业务。资产管理业务方面，截至2023年末，广发资管管理的集合资产管理计划和专项资产管理计划的净值规模较2022年末分别下降43.68%和10.65%，单一资产管理计划的净值规模较2022年末上升48.57%，合计规模较2022年末下降24.53%。曾因保荐业务违规收千万级罚单面包财经根据监管部门通报统计，2023年以来，广发证券已多次被监管部门处罚。2023年9月7日，广发证券收到湖北证监局下发的《中国证监会行政处罚决定书（广发证券、王鑫、杨磊杰）》。《决定》显示，“广发证券存在以下违法事实：广发证券出具的保荐书等文件存在虚假记载；广发证券在担任保荐(主承销)机构期间未勤勉尽责”。证监会对广发证券责令改正，给予警告，并没收保荐业务收入94.34万元，并处以94.34万元罚款；没收承销股票违法所得783.02万元，并处以50万元罚款。\n"
     ]
    }
   ],
   "source": [
    "mt = s1.find(attrs={'class': 'article'}).find_all('p')\n",
    "cont_list=[]\n",
    "for i in mt[2:]:s\n",
    "#     print(i)\n",
    "    cont_list.append(i.text.strip())\n",
    "# print(cont_list)\n",
    "cont_news=''.join(cont_list)\n",
    "print(cont_news)"
   ]
  },
  {
   "cell_type": "code",
   "execution_count": 31,
   "id": "29e3a73f",
   "metadata": {},
   "outputs": [],
   "source": [
    "from aip import AipNlp\n",
    "\"NLP方面\"\n",
    "\"\"\" 你的 APPID AK SK \"\"\"\n",
    "APP_ID = '59548843'\n",
    "API_KEY = 'gxDFbOrS49yeNYtl7E18CsV2'\n",
    "SECRET_KEY = 'aKFgkBNnXBTFVwxoBVYIdZMktz05tiUd'\n",
    "\n",
    "client = AipNlp(APP_ID, API_KEY, SECRET_KEY)"
   ]
  },
  {
   "cell_type": "code",
   "execution_count": 37,
   "id": "4c4ee4e6",
   "metadata": {},
   "outputs": [
    {
     "name": "stdout",
     "output_type": "stream",
     "text": [
      "{'log_id': 2537230896447142531, 'items': [{'sentiment': 0, 'abstract': '<span>广发资管管理的集合资产管理计划和专项资产管理计划的净值规模较2022年末分别下降43.68%和10.65%</span>', 'prop': '管理一般', 'begin_pos': 0, 'end_pos': 90, 'adj': ''}, {'sentiment': 0, 'abstract': '<span>单一资产管理计划的净值规模较2022年末上升48.57%</span>', 'prop': '管理一般', 'begin_pos': 0, 'end_pos': 46, 'adj': ''}]}\n"
     ]
    }
   ],
   "source": [
    "#提取观点\n",
    "res=client.commentTag(cont_news)\n",
    "print(res)"
   ]
  },
  {
   "cell_type": "code",
   "execution_count": 38,
   "id": "81becc98",
   "metadata": {},
   "outputs": [
    {
     "name": "stdout",
     "output_type": "stream",
     "text": [
      "{'items': [{'score': 0.8594706654548645, 'tag': '广发证券股价'}, {'score': 0.8516281247138977, 'tag': '保荐机构'}, {'score': 0.8306930661201477, 'tag': '新浪财经'}, {'score': 0.8304567337036133, 'tag': '股票'}, {'score': 0.8124666213989258, 'tag': '投资'}], 'log_id': 1775395568695731201}\n"
     ]
    }
   ],
   "source": [
    "#提取关键字\n",
    "res=client.keyword(title, cont_news)\n",
    "print(res)"
   ]
  },
  {
   "cell_type": "code",
   "execution_count": 40,
   "id": "a722fe74",
   "metadata": {},
   "outputs": [
    {
     "name": "stdout",
     "output_type": "stream",
     "text": [
      "{'log_id': 6772197541009870083, 'item': {'lv2_tag_list': [{'score': 0.824143, 'tag': '投资'}, {'score': 0.772722, 'tag': '非银金融行业'}], 'lv1_tag_list': [{'score': 0.239434, 'tag': '财经'}]}}\n"
     ]
    }
   ],
   "source": [
    "#提取主题\n",
    "res=client.topic(title, cont_news)\n",
    "print(res)"
   ]
  },
  {
   "cell_type": "markdown",
   "id": "85d17caa",
   "metadata": {},
   "source": [
    "#内容摘要"
   ]
  },
  {
   "cell_type": "code",
   "execution_count": 42,
   "id": "2dbde1c1",
   "metadata": {},
   "outputs": [
    {
     "name": "stdout",
     "output_type": "stream",
     "text": [
      "{'log_id': 2849394437436882659, 'summary': '近期，广发证券披露2023年年度报告。另外，根据监管部门通报统计，2023年以来广发证券已多次被监管部门处罚。2023年9月，广发证券因出具的保荐书等文件存在虚假记载等违法违规行为，被中国证监会罚没超千万元。证监会对广发证券责令改正，给予警告，并没收保荐业务收入94.34万元，并处以94.34万元罚款；没收承销股票违法所得783.02万元，并处以50万元罚款。'}\n"
     ]
    }
   ],
   "source": [
    "maxSummaryLen=180\n",
    "res=client.newsSummary(cont_news, maxSummaryLen)\n",
    "print(res)"
   ]
  },
  {
   "cell_type": "markdown",
   "id": "43db16eb",
   "metadata": {},
   "source": [
    "#下载图片"
   ]
  },
  {
   "cell_type": "code",
   "execution_count": 17,
   "id": "ed946b16",
   "metadata": {},
   "outputs": [
    {
     "name": "stdout",
     "output_type": "stream",
     "text": [
      "[<img alt=\"\" id=\"0\" src=\"//n.sinaimg.cn/finance/crawl/796/w550h246/20240403/2c22-52ef607fdc2280e7fb5bace029c109d2.png\"/>, <img alt=\"\" id=\"1\" src=\"//n.sinaimg.cn/finance/crawl/703/w550h153/20240403/7cbd-ecc0d19e89f7b409749c8548e6f6a1fc.png\"/>, <img alt=\"\" id=\"2\" src=\"//n.sinaimg.cn/finance/crawl/767/w550h217/20240403/1286-a096b869ac3412031cd924306046e278.png\"/>, <img alt=\"\" id=\"3\" src=\"//n.sinaimg.cn/finance/crawl/51/w550h301/20240403/a3de-dd5fb5a3e638a48ee87f14abcda73eb5.png\"/>, <img alt=\"\" id=\"4\" src=\"//n.sinaimg.cn/finance/crawl/343/w550h593/20240403/1d88-e9fa1d9838b90eade316f9c44de65938.png\"/>, <img src=\"//n.sinaimg.cn/finance/0/w400h400/20231127/9ece-7520e4e0c86423a0c596834c30eb42ea.png\"/>, <img src=\"//n.sinaimg.cn/finance/cece9e13/20200514/343233024.png\"/>]\n"
     ]
    }
   ],
   "source": [
    "mt = s1.find(attrs={'class': 'article'}).find_all('img')\n",
    "print(mt)"
   ]
  },
  {
   "cell_type": "code",
   "execution_count": 21,
   "id": "18adcb1c",
   "metadata": {},
   "outputs": [
    {
     "data": {
      "text/plain": [
       "'https://n.sinaimg.cn/finance/crawl/796/w550h246/20240403/2c22-52ef607fdc2280e7fb5bace029c109d2.png'"
      ]
     },
     "execution_count": 21,
     "metadata": {},
     "output_type": "execute_result"
    }
   ],
   "source": [
    "\"https:\"+mt[0]['src']"
   ]
  },
  {
   "cell_type": "code",
   "execution_count": 22,
   "id": "0f719010",
   "metadata": {},
   "outputs": [
    {
     "data": {
      "text/plain": [
       "True"
      ]
     },
     "execution_count": 22,
     "metadata": {},
     "output_type": "execute_result"
    }
   ],
   "source": [
    "mt[0].has_attr('id')"
   ]
  },
  {
   "cell_type": "code",
   "execution_count": 25,
   "id": "b6e761d1",
   "metadata": {},
   "outputs": [],
   "source": [
    "img_urls=[]\n",
    "for i in mt:\n",
    "    if i.has_attr('id'):\n",
    "        img_url=\"https:\"+i['src']\n",
    "        img_urls.append(img_url)"
   ]
  },
  {
   "cell_type": "code",
   "execution_count": 27,
   "id": "09080964",
   "metadata": {},
   "outputs": [],
   "source": [
    "for i in range(len(img_urls)):\n",
    "    img_url=img_urls[i]\n",
    "    ifopen = 1    #用于下方判断是否下载图片\n",
    "    with eventlet.Timeout(1,False):     #设定1秒的超时判断\n",
    "        try:\n",
    "            picture = requests.get(img_url,headers = hd).content  #发送get请求并返回二进制数据\n",
    "        except:\n",
    "            print('第%d张图片超时异常'%i)    #说明图片异常\n",
    "            ifopen = 0      #取消下载此图片，否则会一直卡着然后报错\n",
    "    while ifopen == 1:\n",
    "        text = open('pics/' + 't_%d'%i + '.jpg','wb')  #将图片下载至文件夹'图片'中\n",
    "        text.write(picture)     #上行代码中'wb'为写入二进制数据\n",
    "        text.closse()\n",
    "        ifopen = 0"
   ]
  },
  {
   "cell_type": "markdown",
   "id": "ed73772d",
   "metadata": {},
   "source": [
    "#分析图片"
   ]
  },
  {
   "cell_type": "code",
   "execution_count": null,
   "id": "ff6d470b",
   "metadata": {},
   "outputs": [],
   "source": [
    "\"CV方面\"\n",
    "\"\"\" 你的 APPID AK SK \"\"\"\n",
    "APP_ID = '59581274'\n",
    "API_KEY = 'gxDFbOrS49yeNYtl7E18CsV2'\n",
    "SECRET_KEY = 'aKFgkBNnXBTFVwxoBVYIdZMktz05tiUd'\n",
    "\n",
    "client = AipNlp(APP_ID, API_KEY, SECRET_KEY)"
   ]
  },
  {
   "cell_type": "code",
   "execution_count": null,
   "outputs": [],
   "source": [],
   "metadata": {
    "collapsed": false
   }
  },
  {
   "cell_type": "code",
   "execution_count": null,
   "outputs": [],
   "source": [],
   "metadata": {
    "collapsed": false
   }
  }
 ],
 "metadata": {
  "kernelspec": {
   "display_name": "Python 3 (ipykernel)",
   "language": "python",
   "name": "python3"
  },
  "language_info": {
   "codemirror_mode": {
    "name": "ipython",
    "version": 3
   },
   "file_extension": ".py",
   "mimetype": "text/x-python",
   "name": "python",
   "nbconvert_exporter": "python",
   "pygments_lexer": "ipython3",
   "version": "3.9.13"
  }
 },
 "nbformat": 4,
 "nbformat_minor": 5
}
