{
 "cells": [
  {
   "cell_type": "markdown",
   "id": "7878480c",
   "metadata": {},
   "source": [
    "#从视频中提取音频"
   ]
  },
  {
   "cell_type": "code",
   "execution_count": 1,
   "id": "767466de",
   "metadata": {},
   "outputs": [],
   "source": [
    "import moviepy.editor as mp\n",
    "\n",
    "def extract_audio(video_file_path):\n",
    "    my_clip = mp.VideoFileClip(video_file_path)\n",
    "    my_clip.audio.write_audiofile(f'{video_file_path}.mp3')"
   ]
  },
  {
   "cell_type": "code",
   "execution_count": 2,
   "id": "72e65eab",
   "metadata": {},
   "outputs": [
    {
     "name": "stdout",
     "output_type": "stream",
     "text": [
      "MoviePy - Writing audio in ./video/a1.mp4.mp3\n"
     ]
    },
    {
     "name": "stderr",
     "output_type": "stream",
     "text": [
      "                                                                                                                       "
     ]
    },
    {
     "name": "stdout",
     "output_type": "stream",
     "text": [
      "MoviePy - Done.\n"
     ]
    },
    {
     "name": "stderr",
     "output_type": "stream",
     "text": [
      "\r"
     ]
    }
   ],
   "source": [
    "extract_audio(\"./video/a1.mp4\")"
   ]
  },
  {
   "cell_type": "code",
   "execution_count": null,
   "id": "6ea4492a",
   "metadata": {
    "pycharm": {
     "is_executing": true
    }
   },
   "outputs": [],
   "source": [
    "import whisper\n",
    "model = whisper.load_model(\"large\")\n",
    "result = model.transcribe(\"toutiao/今日头条/video_news/aaa.mp3\",language=\"zh\")\n",
    "print(result[\"text\"])"
   ]
  },
  {
   "cell_type": "code",
   "execution_count": 4,
   "outputs": [
    {
     "data": {
      "text/plain": "'下面来看一组联播快讯对福建江西广东三省和长江珠江太湖等流域启动防汛四级应急响应并派出工作组赴相关地区协助指导防汛工作要求相关地区加强联合会商研判狠抓低洼易烙区旅游景区等防洪安全管理记者从国家邮政局获悉三月份全国日军快舰投地量为4.42亿件同比增长17.6%快递发布快递服务全程实现均值为52.59小时同比缩短1.51小时快递服务公众满意度为83.3分同比上升3.3分今天中国国家航天局和泰国高等教育科研与创新部在北京签署了关于探索与和平利用外层空间合作的谅解备忘录和国际月球科研站合作的谅解备忘录中泰双方将在空间探索等领域加强合作重点围绕国际月球科研站建设等展开今晚总台央视新闻频道高端访谈栏目将播出对多米尼克总理斯凯里特的独家专访斯凯里特用真正的朋友形容中国和多米尼克两国的友谊他赞赏中国各项倡议为世界提供发展机遇节目还将在央视新闻央视频央视网等新媒体平台同步上线'"
     },
     "execution_count": 4,
     "metadata": {},
     "output_type": "execute_result"
    }
   ],
   "source": [
    "result[\"text\"]"
   ],
   "metadata": {
    "collapsed": false
   }
  },
  {
   "cell_type": "code",
   "execution_count": 6,
   "id": "8c9a6259",
   "metadata": {},
   "outputs": [
    {
     "name": "stdout",
     "output_type": "stream",
     "text": [
      "今天 我国首个进入川藏高原副地的特高压工程金沙江上游送湖北 政府800千幅特高压直流书店工程开工建设陷入全场1900公里 途径西藏四川重庆湖北市场份预计2025年建成头运 即使每年可向华中地区输送清洁电能进400亿度作为金沙江大型水电基地的首批配套工程之一这一工程从金沙江上游出发 途径西藏四川重庆最终到达湖北工程将在西藏仓都和四川干滋分别建设两座换流站在湖北皇时建设大野换流站 输电线路最终接入华中特高压交流骨干网价2025年将建成头运金上是湖北工程头运后 每年可向华中输送来自川藏高压的清洁电能进400亿度相当于湖北省 年用电量的几6分之一在有效满足 华中特别是湖北用电符和增长的同时还将大的增强 我过华中电网保管电能力除了这一重大工程外 今天国家电网另一个重大工程也同时开工通山抽水续能电站工程这一工程将在湖北通山 清建四台35万千码可逆施发电基础工程建成后可提供280万千码的电力支援能力能有效提升湖北电网顶峰保工能力同时还可促进湖北新能源高效效纳\n"
     ]
    }
   ],
   "source": [
    "from opencc import OpenCC\n",
    "\n",
    "cc = OpenCC('t2s')\n",
    "res=cc.convert(result['text'])\n",
    "print(res)"
   ]
  }
 ],
 "metadata": {
  "kernelspec": {
   "display_name": "Python 3 (ipykernel)",
   "language": "python",
   "name": "python3"
  },
  "language_info": {
   "codemirror_mode": {
    "name": "ipython",
    "version": 3
   },
   "file_extension": ".py",
   "mimetype": "text/x-python",
   "name": "python",
   "nbconvert_exporter": "python",
   "pygments_lexer": "ipython3",
   "version": "3.9.13"
  }
 },
 "nbformat": 4,
 "nbformat_minor": 5
}
