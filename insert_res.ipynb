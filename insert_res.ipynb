{
 "cells": [
  {
   "cell_type": "code",
   "execution_count": null,
   "metadata": {
    "collapsed": true
   },
   "outputs": [],
   "source": [
    "import pymysql as pms\n",
    "# 连接数据库\n",
    "conn = pms.connect(host='127.0.0.1', user='root', password='5566', database='networkmonitor', port=3306)\n",
    "# 创建游标\n",
    "cursor = conn.cursor()\n",
    "\n",
    "# 执行sql语句\n",
    "sql = \"select * from news_extract.news\"\n",
    "cursor.execute(sql)\n",
    "# 获取数据\n",
    "data = cursor.fetchall()\n",
    "#向数据库里插入数据\n",
    "sql = \"insert into news_extract.news(title,content) values(%s,%s)\"\n",
    "cursor.execute(sql, ('test', 'test'))\n",
    "# 提交事务\n",
    "conn.commit()\n",
    "# 关闭游标\n",
    "cursor.close()\n",
    "# 关闭数据库连接\n",
    "conn.close()"
   ]
  },
  {
   "cell_type": "code",
   "execution_count": null,
   "outputs": [],
   "source": [
    "import pymysql as pms\n",
    "# 连接数据库\n",
    "conn = pms.connect(host='127.0.0.1', user='root', password='5566',d"
   ],
   "metadata": {
    "collapsed": false
   }
  }
 ],
 "metadata": {
  "kernelspec": {
   "display_name": "Python 3",
   "language": "python",
   "name": "python3"
  },
  "language_info": {
   "codemirror_mode": {
    "name": "ipython",
    "version": 2
   },
   "file_extension": ".py",
   "mimetype": "text/x-python",
   "name": "python",
   "nbconvert_exporter": "python",
   "pygments_lexer": "ipython2",
   "version": "2.7.6"
  }
 },
 "nbformat": 4,
 "nbformat_minor": 0
}
